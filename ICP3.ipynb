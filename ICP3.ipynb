{
  "nbformat": 4,
  "nbformat_minor": 0,
  "metadata": {
    "colab": {
      "provenance": [],
      "toc_visible": true,
      "authorship_tag": "ABX9TyMCqpJZRy6Jfo/KTEMIdnxH",
      "include_colab_link": true
    },
    "kernelspec": {
      "name": "python3",
      "display_name": "Python 3"
    },
    "language_info": {
      "name": "python"
    }
  },
  "cells": [
    {
      "cell_type": "markdown",
      "metadata": {
        "id": "view-in-github",
        "colab_type": "text"
      },
      "source": [
        "<a href=\"https://colab.research.google.com/github/n-jagadeep/ICP3/blob/main/ICP3.ipynb\" target=\"_parent\"><img src=\"https://colab.research.google.com/assets/colab-badge.svg\" alt=\"Open In Colab\"/></a>"
      ]
    },
    {
      "cell_type": "markdown",
      "source": [
        "PROBLEM 1"
      ],
      "metadata": {
        "id": "44oUAMPVmDDu"
      }
    },
    {
      "cell_type": "code",
      "execution_count": 25,
      "metadata": {
        "colab": {
          "base_uri": "https://localhost:8080/"
        },
        "id": "f_iqroJr2cE9",
        "outputId": "a98598be-44cb-4064-d0a8-d3c1a12f1f0b"
      },
      "outputs": [
        {
          "output_type": "stream",
          "name": "stdout",
          "text": [
            "Employee 1: \n",
            "Enter name: dsfh\n",
            "Family Members: fshd\n",
            "Employee Salary: 4325\n",
            "Employee Department: sfhd\n",
            "Employee 2: \n",
            "Enter name: sfhd\n",
            "Family Members: wger\n",
            "Employee Salary: 3451\n",
            "Employee Department: gsf\n",
            "Full Time Employee 1: \n",
            "Enter name: hfds\n",
            "Family Members: gwfe\n",
            "Employee Salary: 3425\n",
            "Employee Department: shg\n",
            "\n",
            "Number of employees:  3\n",
            "Avg salary is : 3888.0\n"
          ]
        }
      ],
      "source": [
        "class Employee:\n",
        "    numberOfEmployees = 0\n",
        "\n",
        "    def __init__(self, name, family, salary, department):\n",
        "        self.name = name\n",
        "        self.family = family\n",
        "        self.salary = salary\n",
        "        self.department = department\n",
        "        Employee.numberOfEmployees+=1\n",
        "\n",
        "\n",
        "def averagesalary(employee):\n",
        "    total = sum(e.salary for e in employee)\n",
        "    average = total / len(employee)\n",
        "    return average\n",
        "\n",
        "class FulltimeEmployee(Employee):\n",
        "    def __init__(self, name, family, salary, department):\n",
        "        Employee.__init__(self,name, family, salary, department)\n",
        "\n",
        "print(\"Employee 1: \")\n",
        "employee1 = Employee(input(\"Enter name: \"),input(\"Family Members: \"),int(input(\"Employee Salary: \")),input(\"Employee Department: \"))\n",
        "print(\"Employee 2: \")\n",
        "employee2 = Employee(input(\"Enter name: \"),input(\"Family Members: \"),int(input(\"Employee Salary: \")),input(\"Employee Department: \"))\n",
        "print(\"Full Time Employee 1: \")\n",
        "employee3 = FulltimeEmployee(input(\"Enter name: \"),input(\"Family Members: \"),int(input(\"Employee Salary: \")),input(\"Employee Department: \"))\n",
        "print(\"\")\n",
        "print(\"Number of employees: \",Employee.numberOfEmployees)\n",
        "listofEmployees = [employee1, employee2]\n",
        "avgsalary = averagesalary(listofEmployees)\n",
        "print(\"Avg salary is :\", avgsalary)\n",
        "\n"
      ]
    },
    {
      "cell_type": "code",
      "source": [],
      "metadata": {
        "id": "P1STRbB8aCZm"
      },
      "execution_count": null,
      "outputs": []
    },
    {
      "cell_type": "markdown",
      "source": [
        "PROBLEM 2"
      ],
      "metadata": {
        "id": "9Zfc1lu4mGsV"
      }
    },
    {
      "cell_type": "code",
      "source": [
        "import numpy\n",
        "\n",
        "random_vector = numpy.random.uniform(1, 20, 20)\n",
        "print(random_vector)\n",
        "print(\"\")\n",
        "print(\"\")\n",
        "reshaped_array = random_vector.reshape(4, 5)\n",
        "print(\"\")\n",
        "print(\"\")\n",
        "print(reshaped_array)\n",
        "reshaped_array[numpy.arange(4), numpy.argmax(reshaped_array, axis=1)] = 0\n",
        "print(\"\")\n",
        "print(\"\")\n",
        "print(reshaped_array)\n"
      ],
      "metadata": {
        "colab": {
          "base_uri": "https://localhost:8080/"
        },
        "id": "Q0-XknjemIWo",
        "outputId": "443ae53e-5413-4184-be82-2a5f54490823"
      },
      "execution_count": 30,
      "outputs": [
        {
          "output_type": "stream",
          "name": "stdout",
          "text": [
            "[19.36250254  4.02065227  7.57538185  5.2104046   2.37936772 15.92259052\n",
            " 16.37455234  6.42552621  9.62903538  8.30567078 12.91243973 14.05974304\n",
            " 12.18184864 19.53936696  8.62504968  2.03570144 15.97263122 14.27802934\n",
            "  7.90991108  3.99176931]\n",
            "\n",
            "\n",
            "\n",
            "\n",
            "[[19.36250254  4.02065227  7.57538185  5.2104046   2.37936772]\n",
            " [15.92259052 16.37455234  6.42552621  9.62903538  8.30567078]\n",
            " [12.91243973 14.05974304 12.18184864 19.53936696  8.62504968]\n",
            " [ 2.03570144 15.97263122 14.27802934  7.90991108  3.99176931]]\n",
            "\n",
            "\n",
            "[[ 0.          4.02065227  7.57538185  5.2104046   2.37936772]\n",
            " [15.92259052  0.          6.42552621  9.62903538  8.30567078]\n",
            " [12.91243973 14.05974304 12.18184864  0.          8.62504968]\n",
            " [ 2.03570144  0.         14.27802934  7.90991108  3.99176931]]\n"
          ]
        }
      ]
    }
  ]
}